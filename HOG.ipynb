{
 "cells": [
  {
   "cell_type": "markdown",
   "metadata": {},
   "source": [
    "### Seccion 1. Implementación y prueba del descriptor HoG en Python\n",
    "\n"
   ]
  },
  {
   "cell_type": "code",
   "execution_count": 1,
   "metadata": {},
   "outputs": [],
   "source": [
    "# Cargo las librerías necesarias\n",
    "from sklearn.metrics import confusion_matrix\n",
    "import numpy as np\n",
    "import cv2 as cv2\n",
    "from matplotlib import pyplot as plt\n",
    "from os import scandir, getcwd\n",
    "from os.path import abspath\n",
    "from sklearn.svm import SVC\n",
    "from sklearn.metrics import confusion_matrix\n",
    "import itertools\n",
    "from sklearn.metrics import classification_report\n",
    "from sklearn.model_selection import cross_val_score\n",
    "from sklearn.model_selection import KFold\n",
    "from sklearn.model_selection import cross_val_score\n",
    "from sklearn.model_selection import GridSearchCV\n",
    "import pickle\n",
    "from tqdm import tqdm\n",
    "from joblib import dump, load\n",
    "import pandas as pd\n",
    "\n",
    "\n",
    "def loadTrainingData():\n",
    "    \"\"\"\n",
    "    Funcion para leer los datos de entrenamiento\n",
    "    \n",
    "    Retorna:\n",
    "    trainingData -- matriz con las instancias\n",
    "    classes --      vector con las clases de cada instancia\n",
    "    \"\"\"\n",
    "\n",
    "    # Matriz de descriptores que deben ser completadas\n",
    "    trainingData = np.array([])\n",
    "    trainingDataNeg = np.array([])\n",
    "\n",
    "    ################################################\n",
    "    # Casos positivos\n",
    "    # Obtengo la lista de casos positivos\n",
    "    listFiles = [abspath(arch.path) for arch in scandir(PATH_POSITIVE_TRAIN) if arch.is_file()]\n",
    "    # Itero los archivos\n",
    "    for i in tqdm(range(len(listFiles))):\n",
    "        file = listFiles[i]\n",
    "        # Leo la imagen\n",
    "        img = cv2.imread(file, cv2.IMREAD_COLOR)\n",
    "        # Calculo el HOG\n",
    "        hog = cv2.HOGDescriptor()\n",
    "        h = hog.compute(img)\n",
    "        # Lo paso a 1 dimension\n",
    "        h2 = h.ravel()\n",
    "        # Agrego a trainingData\n",
    "        trainingData = np.hstack((trainingData, h2))\n",
    "    print(\"Leidas \" + str(len(listFiles)) + \" imágenes de entrenamiento -> positivas\")\n",
    "    # Hago un reshape\n",
    "    trainingData = trainingData.reshape((len(listFiles), len(h2)))\n",
    "    # Genero el vector de clases\n",
    "    classes = np.ones(len(listFiles))\n",
    "\n",
    "    ################################################\n",
    "    # Casos negativos\n",
    "    # Obtengo la lista de casos positivos\n",
    "    listFilesNeg = [abspath(arch.path) for arch in scandir(PATH_NEGATIVE_TRAIN) if arch.is_file()]\n",
    "    # Itero los archivos\n",
    "    for i in tqdm(range(len(listFilesNeg))):\n",
    "        file = listFilesNeg[i]\n",
    "        # Leo la imagen\n",
    "        img = cv2.imread(file, cv2.IMREAD_COLOR)\n",
    "        # Calculo el HOG\n",
    "        hog = cv2.HOGDescriptor()\n",
    "        h = hog.compute(img)\n",
    "        # Lo paso a 1 dimension\n",
    "        h2 = h.ravel()\n",
    "        # Agrego a trainingData\n",
    "        trainingDataNeg = np.hstack((trainingDataNeg, h2))\n",
    "    print(\"Leidas \" + str(len(listFilesNeg)) + \" imágenes de entrenamiento -> negativas\")\n",
    "    # Hago un reshape\n",
    "    trainingDataNeg = trainingDataNeg.reshape((len(listFilesNeg), len(h2)))\n",
    "    # Genero el vector de clases\n",
    "    classesNeg = np.zeros(len(listFilesNeg))\n",
    "\n",
    "    # Merge de los datos\n",
    "    # Matriz de features\n",
    "    trainingData = np.concatenate((trainingData, trainingDataNeg), axis=0)\n",
    "    # Vector de clases\n",
    "    classes = np.concatenate((classes, classesNeg), axis=0)\n",
    "    return trainingData, classes\n",
    "\n",
    "\n",
    "def test(imagen, clasificador):\n",
    "    \"\"\"\n",
    "    Funcion para predecir el tipo de una muestra\n",
    "    \n",
    "    Parámetros:\n",
    "    imagen --       ruta de la imagen a leer\n",
    "    clasificador -- clasificador de sklearn ya entrenado\n",
    "    \n",
    "    Retorna:\n",
    "    valor -- retorna la predicción realizada\n",
    "    \"\"\"\n",
    "    img = cv2.imread(imagen, cv2.IMREAD_COLOR)\n",
    "    hog = cv2.HOGDescriptor()\n",
    "    h = hog.compute(img)\n",
    "    h2 = h.reshape((1, -1))\n",
    "    return(clasificador.predict(h2))\n",
    "\n",
    "# Seteo de paths y archivos de prueba\n",
    "PATH_POSITIVE_TRAIN = \"data/train/pedestrians/\"\n",
    "PATH_NEGATIVE_TRAIN = \"data/train/background/\"\n",
    "PATH_POSITIVE_TEST = \"data/test/pedestrians/\"\n",
    "PATH_NEGATIVE_TEST = \"data/test/background/\"\n",
    "EXAMPLE_POSITIVE = PATH_POSITIVE_TEST + \"AnnotationsPos_0.000000_crop_000011b_0.png\"\n",
    "EXAMPLE_NEGATIVE = PATH_NEGATIVE_TEST + \"AnnotationsNeg_0.000000_00000002a_0.png\""
   ]
  },
  {
   "cell_type": "code",
   "execution_count": 2,
   "metadata": {},
   "outputs": [
    {
     "name": "stderr",
     "output_type": "stream",
     "text": [
      "100%|██████████| 1916/1916 [00:17<00:00, 112.19it/s]\n",
      "  3%|▎         | 83/2390 [00:00<00:02, 829.67it/s]"
     ]
    },
    {
     "name": "stdout",
     "output_type": "stream",
     "text": [
      "Leidas 1916 imágenes de entrenamiento -> positivas\n"
     ]
    },
    {
     "name": "stderr",
     "output_type": "stream",
     "text": [
      "100%|██████████| 2390/2390 [00:26<00:00, 90.69it/s]\n"
     ]
    },
    {
     "name": "stdout",
     "output_type": "stream",
     "text": [
      "Leidas 2390 imágenes de entrenamiento -> negativas\n",
      "data/test/background/AnnotationsNeg_0.000000_00000002a_0.png  fue clasificado como:  [0.]\n",
      "data/test/pedestrians/AnnotationsPos_0.000000_crop_000011b_0.png  fue clasificado como:  [1.]\n"
     ]
    }
   ],
   "source": [
    "# -----------------------------\n",
    "# Ejecución de la prueba\n",
    "# -----------------------------\n",
    "\n",
    "# Obtengo los datos de trainning\n",
    "X_Train, y_train = loadTrainingData()\n",
    "X_Train.size\n",
    "# Dimensiones :p\n",
    "X_Train.ndim\n",
    "# Alto por ancho\n",
    "X_Train.shape\n",
    "\n",
    "# Guardo los vectores obtenidos\n",
    "np.save(\"X_Train_HOG\", X_Train)\n",
    "np.save(\"y_train_HOG\", y_train)\n",
    "\n",
    "# Creo una SVM con kernel linear\n",
    "clf = SVC(kernel=\"linear\")\n",
    "\n",
    "# Entreno la SVM\n",
    "clf.fit(X_Train, y_train)\n",
    "\n",
    "# Guardo el modelo entreando\n",
    "dump(clf, 'HOG_clf.joblib')\n",
    "\n",
    "# -------------------------------------------\n",
    "# Pruebo con imágenes\n",
    "# -------------------------------------------\n",
    "\n",
    "# Ejemplo negativo\n",
    "res = test(EXAMPLE_NEGATIVE, clf)\n",
    "print(EXAMPLE_NEGATIVE, \" fue clasificado como: \", res)\n",
    "\n",
    "# Ejemplo positivo\n",
    "res = test(EXAMPLE_POSITIVE, clf)\n",
    "print(EXAMPLE_POSITIVE, \" fue clasificado como: \", res)\n"
   ]
  },
  {
   "cell_type": "markdown",
   "metadata": {},
   "source": [
    "### Seccion 2. Pruebas sobre el conjunto de datos de test"
   ]
  },
  {
   "cell_type": "code",
   "execution_count": 3,
   "metadata": {},
   "outputs": [
    {
     "name": "stderr",
     "output_type": "stream",
     "text": [
      "100%|██████████| 500/500 [00:01<00:00, 371.32it/s]\n",
      " 18%|█▊        | 107/600 [00:00<00:00, 1066.33it/s]"
     ]
    },
    {
     "name": "stdout",
     "output_type": "stream",
     "text": [
      "Leidas 500 imágenes de entrenamiento -> positivas\n"
     ]
    },
    {
     "name": "stderr",
     "output_type": "stream",
     "text": [
      "100%|██████████| 600/600 [00:01<00:00, 335.94it/s]\n"
     ]
    },
    {
     "name": "stdout",
     "output_type": "stream",
     "text": [
      "Leidas 600 imágenes de entrenamiento -> negativas\n",
      "              precision    recall  f1-score   support\n",
      "\n",
      "  background       0.96      0.98      0.97       600\n",
      " pedestrians       0.98      0.95      0.96       500\n",
      "\n",
      "   micro avg       0.97      0.97      0.97      1100\n",
      "   macro avg       0.97      0.97      0.97      1100\n",
      "weighted avg       0.97      0.97      0.97      1100\n",
      "\n"
     ]
    }
   ],
   "source": [
    "# -----------------------------------\n",
    "# Mejoras 1. Evaluación del modelo\n",
    "# -----------------------------------\n",
    "def loadTestingData():\n",
    "    \"\"\"\n",
    "    Funcion para leer los datos de testing\n",
    "    \n",
    "    Retorna:\n",
    "    testingData -- matriz con las instancias de testing\n",
    "    classes --     vector con las clases de cada instancia\n",
    "    \"\"\"\n",
    "\n",
    "    # Matriz de descriptores\n",
    "    testingData = np.array([])\n",
    "    testingDataNeg = np.array([])\n",
    "\n",
    "    ################################################\n",
    "    # Casos positivos\n",
    "    # Obtengo la lista de casos positivos\n",
    "    listFiles = [abspath(arch.path) for arch in scandir(PATH_POSITIVE_TEST) if arch.is_file()]\n",
    "    # Itero los archivos\n",
    "    for i in tqdm(range(len(listFiles))):\n",
    "        file = listFiles[i]\n",
    "        # Leo la imagen\n",
    "        img = cv2.imread(file, cv2.IMREAD_COLOR)\n",
    "        # Calculo el HOG\n",
    "        hog = cv2.HOGDescriptor()\n",
    "        h = hog.compute(img)\n",
    "        # Lo paso a 1 dimension\n",
    "        h2 = h.ravel()\n",
    "        # Agrego a testingData\n",
    "        testingData = np.hstack((testingData, h2))\n",
    "    print(\"Leidas \" + str(len(listFiles)) + \" imágenes de entrenamiento -> positivas\")\n",
    "    # Hago un reshape\n",
    "    testingData = testingData.reshape((len(listFiles), len(h2)))\n",
    "    # Genero el vector de clases\n",
    "    classes = np.ones(len(listFiles))\n",
    "\n",
    "    ################################################\n",
    "    # Casos negativos\n",
    "    # Obtengo la lista de casos positivos\n",
    "    listFilesNeg = [abspath(arch.path) for arch in scandir(PATH_NEGATIVE_TEST) if arch.is_file()]\n",
    "    # Itero los archivos\n",
    "    for i in tqdm(range(len(listFilesNeg))):\n",
    "        file = listFilesNeg[i]\n",
    "        # Leo la imagen\n",
    "        img = cv2.imread(file, cv2.IMREAD_COLOR)\n",
    "        # Calculo el HOG\n",
    "        hog = cv2.HOGDescriptor()\n",
    "        h = hog.compute(img)\n",
    "        # Lo paso a 1 dimension\n",
    "        h2 = h.ravel()\n",
    "        # Agrego a trainingData\n",
    "        testingDataNeg = np.hstack((testingDataNeg, h2))\n",
    "    print(\"Leidas \" + str(len(listFilesNeg)) + \" imágenes de entrenamiento -> negativas\")\n",
    "    # Hago un reshape\n",
    "    testingDataNeg = testingDataNeg.reshape((len(listFilesNeg), len(h2)))\n",
    "    # Genero el vector de clases\n",
    "    classesNeg = np.zeros(len(listFilesNeg))\n",
    "\n",
    "    # Merge de los datos\n",
    "    testingData = np.concatenate((testingData, testingDataNeg), axis=0)\n",
    "    classes = np.concatenate((classes, classesNeg), axis=0)\n",
    "    return testingData, classes\n",
    "\n",
    "\n",
    "def plot_confusion_matrix(cm, classes, title='Confusion matrix', cmap=plt.cm.Blues):\n",
    "    \"\"\"\n",
    "    Función para graficar una matriz de confusion\n",
    "    \n",
    "    Parámetros:\n",
    "    cm --      matriz de confusion\n",
    "    classes -- etiquetas de las clases\n",
    "    title --   título del grafico\n",
    "    cmap --    colores a emplear para graficar\n",
    "    \"\"\"\n",
    "\n",
    "    plt.imshow(cm, interpolation='nearest', cmap=cmap)\n",
    "    plt.title(title)\n",
    "    plt.colorbar()\n",
    "    tick_marks = np.arange(len(classes))\n",
    "    plt.xticks(tick_marks, classes, rotation=45)\n",
    "    plt.yticks(tick_marks, classes)\n",
    "\n",
    "    fmt = 'd'\n",
    "    thresh = cm.max() / 2.\n",
    "    for i, j in itertools.product(range(cm.shape[0]), range(cm.shape[1])):\n",
    "        plt.text(j, i, format(cm[i, j], fmt),\n",
    "                 horizontalalignment=\"center\",\n",
    "                 color=\"white\" if cm[i, j] > thresh else \"black\")\n",
    "\n",
    "    plt.ylabel('True label')\n",
    "    plt.xlabel('Predicted label')\n",
    "    plt.tight_layout()\n",
    "\n",
    "\n",
    "# Obtengo los datos de test\n",
    "X_Test, y_test = loadTestingData()\n",
    "target_names = ['background', 'pedestrians']\n",
    "\n",
    "# Guardo los datos\n",
    "np.save(\"X_Test_HOG\", X_Test)\n",
    "np.save(\"y_test_HOG\", y_test)\n",
    "\n",
    "# Realizo predicciones sobre el dataset de test\n",
    "predicciones = clf.predict(X_Test)\n",
    "\n",
    "# Imprimo un reporte de la clasificación\n",
    "print(classification_report(y_test, predicciones, target_names=target_names))"
   ]
  },
  {
   "cell_type": "code",
   "execution_count": 4,
   "metadata": {},
   "outputs": [
    {
     "data": {
      "image/png": "[encoded data removed]",
      "text/plain": [
       "<Figure size 432x288 with 2 Axes>"
      ]
     },
     "metadata": {
      "needs_background": "light"
     },
     "output_type": "display_data"
    }
   ],
   "source": [
    "# Calculo la matriz de confusion\n",
    "cnf_matrix = confusion_matrix(y_test, predicciones)\n",
    "\n",
    "# Grafico la matriz de confusion\n",
    "np.set_printoptions(precision=2)\n",
    "plt.figure()\n",
    "plot_confusion_matrix(cnf_matrix, classes=target_names,\n",
    "                      title='Matriz de confusion')\n",
    "\n",
    "plt.savefig(\"img/HOG_Confusion.png\")"
   ]
  },
  {
   "cell_type": "markdown",
   "metadata": {},
   "source": [
    "### Seccion 3. K Fold Cross Validation"
   ]
  },
  {
   "cell_type": "code",
   "execution_count": 2,
   "metadata": {},
   "outputs": [
    {
     "name": "stdout",
     "output_type": "stream",
     "text": [
      "Exactitud Promedio (Varianza): 0.9628 (+/- 0.0164)\n",
      "Exactitud de cada fold= [0.9704 0.9556 0.9482 0.9519 0.9667 0.9704 0.9593 0.9741 0.9648 0.9667]\n"
     ]
    }
   ],
   "source": [
    "# -----------------------------------\n",
    "# Mejoras 2. K-Fold Cross Validation\n",
    "# -----------------------------------\n",
    "# Hago un merge de los datos de train y test\n",
    "allData = np.concatenate((X_Train, X_Test), axis=0)\n",
    "allClasses = np.concatenate((y_train, y_test))\n",
    "\n",
    "# Guardo los datos mergeados\n",
    "np.save(\"allData_HOG\", allData)\n",
    "np.save(\"allClasses_HOG\", allClasses)\n",
    "\n",
    "#allData = np.load(\"allData_HOG.npy\")\n",
    "#allClasses = np.load(\"allClasses_HOG.npy\")\n",
    "\n",
    "# Ahora implemento 10 Fold Cross Validation\n",
    "scores = cross_val_score(SVC(kernel=\"linear\"), allData, allClasses, cv=10, n_jobs = 4)\n",
    "\n",
    "# Con esto puede calcular la exactitud promedio y la varianza\n",
    "print(\"Exactitud Promedio (Varianza): %0.4f (+/- %0.4f)\" % (scores.mean(), scores.std() * 2))\n",
    "\n",
    "# Muestro la exactitud obtenida en cada fold de 10 Fold CV\n",
    "np.set_printoptions(precision=4)\n",
    "print(\"Exactitud de cada fold= {}\".format(scores))"
   ]
  },
  {
   "cell_type": "code",
   "execution_count": 2,
   "metadata": {},
   "outputs": [],
   "source": [
    "allData = np.load(\"allData_HOG.npy\")\n",
    "allClasses = np.load(\"allClasses_HOG.npy\")"
   ]
  },
  {
   "cell_type": "markdown",
   "metadata": {},
   "source": [
    "### Seccion 4. Ajuste hiperparámetros"
   ]
  },
  {
   "cell_type": "code",
   "execution_count": 3,
   "metadata": {},
   "outputs": [
    {
     "name": "stdout",
     "output_type": "stream",
     "text": [
      "Mejor Resultado = 0.9757676655567887\n",
      "Mejores parámetros = {'C': 10, 'gamma': 0.01, 'kernel': 'rbf'}\n"
     ]
    }
   ],
   "source": [
    "# -----------------------------------\n",
    "# Mejoras 3. Evaluación de parámetros SVM\n",
    "# -----------------------------------\n",
    "def grid_search(classifier, X_train, y_train, gparams,\n",
    "                score='accuracy', cv=10, jobs=-1):\n",
    "    \"\"\"\n",
    "    Realizo una búsqueda de hiperparametros utilizando una grilla\n",
    "    con la función GridSearchCV de sklearn.model_selection\n",
    "\n",
    "    Parámetros:\n",
    "    classifier -- sklearn ML algorithm\n",
    "    X_train --    Training features\n",
    "    y_train --    Training labels\n",
    "    gparams --    Dictionary of parameters to be screened\n",
    "    score --      Scoring metric\n",
    "    cv --         K value for Cross Validation\n",
    "    jobs --       Cores (-1 for all)\n",
    "\n",
    "    Retorna:\n",
    "        Mejor modelo\n",
    "    \"\"\"\n",
    "    \n",
    "    # Inicializo la clase de GridSearch\n",
    "    gd_sr = GridSearchCV(estimator=classifier,\n",
    "                         param_grid=gparams,\n",
    "                         scoring=score,\n",
    "                         cv=cv,\n",
    "                         n_jobs=jobs)\n",
    "\n",
    "    # Hago un fit de los datos de train\n",
    "    gd_sr.fit(X_train, y_train)\n",
    "\n",
    "    # Resultados\n",
    "    best_result = gd_sr.best_score_\n",
    "    print(\"Mejor Resultado = {}\".format(best_result))\n",
    "\n",
    "    # Get the best parameters\n",
    "    best_parameters = gd_sr.best_params_\n",
    "    print(\"Mejores parámetros = {}\".format(best_parameters))\n",
    "\n",
    "    return gd_sr\n",
    "\n",
    "\n",
    "# Defino los parámetros de búsqueda\n",
    "params = {'C': [0.01, 1, 10],\n",
    "          'gamma': [0.01, 1, 10],\n",
    "          'kernel': ['linear', 'rbf', 'poly']\n",
    "         }\n",
    "\n",
    "results = grid_search(SVC(), allData, allClasses, params, score='accuracy', cv=5, jobs=6)"
   ]
  },
  {
   "cell_type": "code",
   "execution_count": 4,
   "metadata": {},
   "outputs": [
    {
     "name": "stdout",
     "output_type": "stream",
     "text": [
      "                                            params  mean_test_score  \\\n",
      "19       {'C': 10, 'gamma': 0.01, 'kernel': 'rbf'}         0.975768   \n",
      "26        {'C': 10, 'gamma': 10, 'kernel': 'poly'}         0.975213   \n",
      "23         {'C': 10, 'gamma': 1, 'kernel': 'poly'}         0.975213   \n",
      "17         {'C': 1, 'gamma': 10, 'kernel': 'poly'}         0.975213   \n",
      "5        {'C': 0.01, 'gamma': 1, 'kernel': 'poly'}         0.975213   \n",
      "14          {'C': 1, 'gamma': 1, 'kernel': 'poly'}         0.975213   \n",
      "8       {'C': 0.01, 'gamma': 10, 'kernel': 'poly'}         0.975213   \n",
      "11       {'C': 1, 'gamma': 0.01, 'kernel': 'poly'}         0.975028   \n",
      "20      {'C': 10, 'gamma': 0.01, 'kernel': 'poly'}         0.974843   \n",
      "10        {'C': 1, 'gamma': 0.01, 'kernel': 'rbf'}         0.973363   \n",
      "0   {'C': 0.01, 'gamma': 0.01, 'kernel': 'linear'}         0.963744   \n",
      "6     {'C': 0.01, 'gamma': 10, 'kernel': 'linear'}         0.963744   \n",
      "3      {'C': 0.01, 'gamma': 1, 'kernel': 'linear'}         0.963744   \n",
      "12        {'C': 1, 'gamma': 1, 'kernel': 'linear'}         0.962264   \n",
      "15       {'C': 1, 'gamma': 10, 'kernel': 'linear'}         0.962264   \n",
      "18    {'C': 10, 'gamma': 0.01, 'kernel': 'linear'}         0.962264   \n",
      "21       {'C': 10, 'gamma': 1, 'kernel': 'linear'}         0.962264   \n",
      "24      {'C': 10, 'gamma': 10, 'kernel': 'linear'}         0.962264   \n",
      "9      {'C': 1, 'gamma': 0.01, 'kernel': 'linear'}         0.962264   \n",
      "2     {'C': 0.01, 'gamma': 0.01, 'kernel': 'poly'}         0.892527   \n",
      "1      {'C': 0.01, 'gamma': 0.01, 'kernel': 'rbf'}         0.871624   \n",
      "7        {'C': 0.01, 'gamma': 10, 'kernel': 'rbf'}         0.553089   \n",
      "25         {'C': 10, 'gamma': 10, 'kernel': 'rbf'}         0.553089   \n",
      "16          {'C': 1, 'gamma': 10, 'kernel': 'rbf'}         0.553089   \n",
      "4         {'C': 0.01, 'gamma': 1, 'kernel': 'rbf'}         0.553089   \n",
      "22          {'C': 10, 'gamma': 1, 'kernel': 'rbf'}         0.553089   \n",
      "13           {'C': 1, 'gamma': 1, 'kernel': 'rbf'}         0.553089   \n",
      "\n",
      "    std_test_score  \n",
      "19        0.006286  \n",
      "26        0.006205  \n",
      "23        0.006205  \n",
      "17        0.006205  \n",
      "5         0.006205  \n",
      "14        0.006205  \n",
      "8         0.006205  \n",
      "11        0.006249  \n",
      "20        0.006810  \n",
      "10        0.005776  \n",
      "0         0.006503  \n",
      "6         0.006503  \n",
      "3         0.006503  \n",
      "12        0.006287  \n",
      "15        0.006287  \n",
      "18        0.006287  \n",
      "21        0.006287  \n",
      "24        0.006287  \n",
      "9         0.006287  \n",
      "2         0.011314  \n",
      "1         0.010397  \n",
      "7         0.000205  \n",
      "25        0.000205  \n",
      "16        0.000205  \n",
      "4         0.000205  \n",
      "22        0.000205  \n",
      "13        0.000205  \n"
     ]
    },
    {
     "name": "stderr",
     "output_type": "stream",
     "text": [
      "/home/crohr/anaconda3/envs/ds/lib/python3.6/site-packages/sklearn/utils/deprecation.py:125: FutureWarning: You are accessing a training score ('split0_train_score'), which will not be available by default any more in 0.21. If you need training scores, please set return_train_score=True\n",
      "  warnings.warn(*warn_args, **warn_kwargs)\n",
      "/home/crohr/anaconda3/envs/ds/lib/python3.6/site-packages/sklearn/utils/deprecation.py:125: FutureWarning: You are accessing a training score ('split1_train_score'), which will not be available by default any more in 0.21. If you need training scores, please set return_train_score=True\n",
      "  warnings.warn(*warn_args, **warn_kwargs)\n",
      "/home/crohr/anaconda3/envs/ds/lib/python3.6/site-packages/sklearn/utils/deprecation.py:125: FutureWarning: You are accessing a training score ('split2_train_score'), which will not be available by default any more in 0.21. If you need training scores, please set return_train_score=True\n",
      "  warnings.warn(*warn_args, **warn_kwargs)\n",
      "/home/crohr/anaconda3/envs/ds/lib/python3.6/site-packages/sklearn/utils/deprecation.py:125: FutureWarning: You are accessing a training score ('split3_train_score'), which will not be available by default any more in 0.21. If you need training scores, please set return_train_score=True\n",
      "  warnings.warn(*warn_args, **warn_kwargs)\n",
      "/home/crohr/anaconda3/envs/ds/lib/python3.6/site-packages/sklearn/utils/deprecation.py:125: FutureWarning: You are accessing a training score ('split4_train_score'), which will not be available by default any more in 0.21. If you need training scores, please set return_train_score=True\n",
      "  warnings.warn(*warn_args, **warn_kwargs)\n",
      "/home/crohr/anaconda3/envs/ds/lib/python3.6/site-packages/sklearn/utils/deprecation.py:125: FutureWarning: You are accessing a training score ('mean_train_score'), which will not be available by default any more in 0.21. If you need training scores, please set return_train_score=True\n",
      "  warnings.warn(*warn_args, **warn_kwargs)\n",
      "/home/crohr/anaconda3/envs/ds/lib/python3.6/site-packages/sklearn/utils/deprecation.py:125: FutureWarning: You are accessing a training score ('std_train_score'), which will not be available by default any more in 0.21. If you need training scores, please set return_train_score=True\n",
      "  warnings.warn(*warn_args, **warn_kwargs)\n"
     ]
    }
   ],
   "source": [
    "# Otengo todos los resultados de grid search y armo una tabla\n",
    "#results = load(\"results_gridsearch_HOG.pkl\")\n",
    "cv_results = results.cv_results_\n",
    "scores_df = pd.DataFrame(cv_results).sort_values(by='rank_test_score')\n",
    "scores_grid_search = scores_df[['params', 'mean_test_score', 'std_test_score']]\n",
    "print(scores_grid_search)\n",
    "scores_df.to_csv(\"HOG_hiperparametros.csv\", index=False)"
   ]
  },
  {
   "cell_type": "code",
   "execution_count": 5,
   "metadata": {},
   "outputs": [
    {
     "data": {
      "text/plain": [
       "['results_gridsearch_HOG.pkl']"
      ]
     },
     "execution_count": 5,
     "metadata": {},
     "output_type": "execute_result"
    }
   ],
   "source": [
    "# Guardo los resultados de gridsearch\n",
    "dump(results, 'results_gridsearch_HOG.pkl')\n"
   ]
  },
  {
   "cell_type": "markdown",
   "metadata": {},
   "source": [
    "La búsqueda de hiperparámetros dio como el mejor modelo uno con kernel **rbf**, la particularidad es que este kernel solo da buenos resultados con una combinación de parámetros muy particular. Para revalidar esto, corro 10 Fold Cross Validation con estos parámetros."
   ]
  },
  {
   "cell_type": "code",
   "execution_count": 6,
   "metadata": {},
   "outputs": [
    {
     "name": "stdout",
     "output_type": "stream",
     "text": [
      "Exactitud Promedio (Varianza): 0.9784 (+/- 0.0201)\n",
      "Exactitud de cada fold= [0.98890943 0.97227357 0.96487985 0.96303142 0.97966728 0.99075786\n",
      " 0.97222222 0.99074074 0.97407407 0.98703704]\n"
     ]
    }
   ],
   "source": [
    "scores = cross_val_score(SVC(kernel=\"rbf\", C = 10, gamma = 0.01), allData, allClasses, cv=10, n_jobs = 6)\n",
    "\n",
    "# Con esto puede calcular la exactitud promedio y la varianza\n",
    "print(\"Exactitud Promedio (Varianza): %0.4f (+/- %0.4f)\" % (scores.mean(), scores.std() * 2))\n",
    "\n",
    "# Muestro la exactitud obtenida en cada fold de 10 Fold CV\n",
    "print(\"Exactitud de cada fold= {}\".format(scores))"
   ]
  },
  {
   "cell_type": "code",
   "execution_count": 4,
   "metadata": {},
   "outputs": [
    {
     "data": {
      "text/plain": [
       "['HOGbest_clf.joblib']"
      ]
     },
     "execution_count": 4,
     "metadata": {},
     "output_type": "execute_result"
    }
   ],
   "source": [
    "# Creo una SVM con kernel rbf\n",
    "clf = SVC(kernel=\"rbf\", C = 10, gamma = 0.01, probability = True)\n",
    "\n",
    "# Entreno la SVM\n",
    "clf.fit(allData, allClasses)\n",
    "\n",
    "# Guardo el modelo entreando\n",
    "dump(clf, 'HOGbest_clf.joblib')\n"
   ]
  },
  {
   "cell_type": "code",
   "execution_count": null,
   "metadata": {},
   "outputs": [],
   "source": []
  }
 ],
 "metadata": {
  "kernelspec": {
   "display_name": "Python 3",
   "language": "python",
   "name": "python3"
  },
  "language_info": {
   "codemirror_mode": {
    "name": "ipython",
    "version": 3
   },
   "file_extension": ".py",
   "mimetype": "text/x-python",
   "name": "python",
   "nbconvert_exporter": "python",
   "pygments_lexer": "ipython3",
   "version": "3.7.1"
  }
 },
 "nbformat": 4,
 "nbformat_minor": 2
}
